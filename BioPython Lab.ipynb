{
 "cells": [
  {
   "cell_type": "markdown",
   "metadata": {},
   "source": [
    "## Step 1: Using SeqIO, read in and parse the file of apple primary transcripts (available on Canvas):\n",
    "    - During your parsing, create a list of only transcripts of length 125 or less\n",
    "    - Report the number of transcripts matching this criteria\n",
    "    - Translate these sequences to protein, make sure to save them to their own list"
   ]
  },
  {
   "cell_type": "code",
   "execution_count": 229,
   "metadata": {},
   "outputs": [
    {
     "name": "stdout",
     "output_type": "stream",
     "text": [
      "Number of sequences that are 125 bases or less: 62\n",
      "MYGAGAKEDLQLCSGCLCTCSAEALQIQRKRRRVYNFLCT*\n",
      "MGPYRSQQIKSQPNGHVYGQRGHDHRRDEVVAAPGAPDRV*\n",
      "MILGYHRPLNGLEVGRTVAVRGAVVDGAWSTGASTGRMIA*\n",
      "MPLSAHGTSEIFSKNMGMFVRLCRSRWYIQTSHSSNLFRI*\n",
      "MVKYSREPDNITKSCKARGSDLRVHFKVFGLFKFGQFGQD*\n",
      "MVGVPQVFRRGELPNEVSCLLLICQSNESLFRSQIAKSSS*\n",
      "MIRRSKYCERHAKKEHITNTTPDEERDENISDEESKLKGQ*\n",
      "MPVVLRELDLESSCMVKFTVDLLCYELRSSWIVFRPQTRK*\n",
      "MGSIDFVERGTGSVVFGRAMRKRIEWCFRLVLQMSYGLSN*\n",
      "MDQITSFLAHVHPKVHPGLVTGRYIWLLLIVTAACVIKQH*\n",
      "MIEMFVNRKIVNLIGRLGIELELEVSHVSWSDAVPNILLS*\n",
      "MLMNGFNEAKRETDMASSTSSGAAGNFYTWNGRIVLCAFF*\n",
      "MGPTRKDWSLRLDDALWAYRTAYKTPIGMSPFRLIYAPIK*\n",
      "MKLFWVKFWRCQSLEVLVMRALLALALSLSLQCRSLQGLC*\n",
      "MIEAKNQALFAGHLVELELADGYFECAGLVSLVHAAYACR*\n",
      "MTKHCPQIDSSTQVPDLSCRPCGKESCESNLHVSVLCPEG*\n",
      "MKKPDSAVKRDRKAEKRRIYNKSQKSEIKTRMKKVVMSFH*\n",
      "MSAELAEVGLELMAAEVEEAGLKLTSAETGLNLGCAAEAG*\n",
      "MLSDSEENDHDQTEQLMIADSNVDVTIARLSTKKESSSFA*\n",
      "MLIQLRKSLRNTASKPVCGRLFLGPGYEENTYAQWEWAID*\n",
      "MVCTKRVADWESWRAIPKELKMHMIDELAPIGTLTKVAQI*\n",
      "MGYLGCASPPIFETLVLLRSVCDPPEKPRETPSCCLARKN*\n",
      "MQPDTGQGEGDEDEDVDKNDIEKHNGECDCEGRIQGFEGH*\n",
      "MAWFTCCTGFTSLLLVISLKNQSFYKGHFPFLQSTGHCPD*\n",
      "MHSYPATSLGMESWDNTNLIVFSAPPSFFQRLTFKAYFQH*\n",
      "MSLASWSGLKRAAVTMTTHKNESTVSLQWVNHHGGNHPIH*\n",
      "MKTSLWREMKRKFGCINSVGDSNCQLKKKKKKKVHPKHGV*\n",
      "MVIMLLLLPKFLNLTEVSLLNRFCVLVMYDFLFCTIMMKN*\n",
      "MRFDFWFQEKLSMRSKVFCKRSCLNFGLSVCNLASCLRSR*\n",
      "MSVVFSLQSVAYSNPRFLGLLGYWCTSSFWLKCCLVTSTC*\n",
      "MCIENSWSCVGGFGFVGLYIVISIYNVLDSGFQNVLQTMS*\n",
      "MNALRYLLDWKCSISLKILSLIDVYIASPLSWEIARLFAA*\n",
      "MRVKNMSQLIRSHKEVMTAPCLIPPPPTSAATALVEMDPR*\n",
      "MEWRPLKANDANVQMQSPNDEAMFDEATMVDDGMLNSPFG*\n",
      "MRIVHGLGFGLVESGCINELEMKNWATGVWGQCLVALLMV*\n",
      "MQRCPRCTKRLKRQPRRAPKLTDLQIVSVQPRDNNLELPV*\n",
      "MLMHKISEDFGTTESVSFVKLFYKVLLRRNDMFTYSEGQV*\n",
      "MQNNITKYWTLLLCNITKGAEAYECGCRKRVQLETRTSRF*\n",
      "MQFLDCKFVVKNSLFIYSNCYHVCLTSSVLSEIRKIHNCK*\n",
      "MRQQIVSAFLRDYQLSNQEVTRKASRDFLRSGTIARLRSW*\n",
      "MIWFCFVFLGNGVVRFSQLLGCHFHVGSTSTKLRVRICKI*\n",
      "MLSDGEPVPCLHRSCGSKKSWFFKASFCCFELLAFFYPKL*\n",
      "MTSSIGVSGGSCDVASSRIAVLFSTISPRSCSAISLPGRT*\n",
      "MESNSPGLSWDRQTEGCCIETSPFGFSALMKFYLFPTASS*\n",
      "MNESWVFTTVQHAISNPNGKRQSLKLQPRSLLQSCMGKPL*\n",
      "MEKTTPTTSKDHHKDRHSNQKPKEPATRNRRKLGILDQWL*\n",
      "MNESWVFTTVQHAISNPNGKRQSLKLQPRSLLQSCMGKPL*\n",
      "MFVRFGFCSWLEFPLGMFPSRRAHNSSRGWREQVVQIACT*\n",
      "MIWCFVELMFIVYGFACILLCIPTLGIQGTKFRSISNFLF*\n",
      "MVAHVSDFGISKLLGEGESTTRAKTLVTIGYMAPEGIVST*\n",
      "MHAFLGRNRPGNRHTVSGVLLRRRLGVRLHQTQKNSPIFR*\n",
      "MLIDALAQATSSTSLVWCQNQKQKEIIQLVGMLEYCQRLS*\n",
      "MNCFTSSSAFHNPPQASSGIFGYVEIVCFAYLVVSFDFIL*\n",
      "MHLIGSSLAVVGSRGPFRLSDRFGTCRTHLRVMYSHFSPT*\n",
      "MILLHRKGRHSADTVKSVWVRCVLPHGRACLNTCTLRFLD*\n",
      "MSEMPATSCGVAGCSGLQVRRMWCHSPSKTSSKWIEKQER*\n",
      "MEARRQGGSKFSEIDVFADVYVRPRNELVESLHVTMMEKR*\n",
      "MGCFLSSSSSFFFQWQSHMLLNLLPLLVWSNSKESVKYNL*\n",
      "MLADHKWWKLMNTNFGIEPKMKRSWIHTVGNVDGGLIPNV*\n",
      "MKTETMEGYLKDSNVGVDLVVGGVVTPTDTANHELAAQAI*\n",
      "MSRGILDFGWFRLLQMGALDVRRWLADTERLITLLMEGTL*\n",
      "MMKVMGPKTCLHSIRDYLFQVLGISWQVDLGWVDALGGLR*\n"
     ]
    }
   ],
   "source": [
    "from Bio import SeqIO\n",
    "from Bio.Seq import Seq\n",
    "from Bio.Alphabet import generic_dna\n",
    "\n",
    "\n",
    "sequences = []\n",
    "translated_sequences = []\n",
    "coding_dna = \"\"\n",
    "\n",
    "# Filters sequences by length. Add sequence to list if 125 bases or fewer\n",
    "for record in SeqIO.parse(\"Mdomestica_491_v1.1.cds_primaryTranscriptOnly.fa\", \"fasta\"):\n",
    "        if len(record.seq) <= 125:\n",
    "            sequences.append(record.seq)\n",
    "print(\"Number of sequences that are 125 bases or less: \" + str(len(sequences)))\n",
    "    \n",
    "\n",
    "# Iterate through sequences list. Translate each sequence element and append to new list\n",
    "for x in sequences:\n",
    "    coding_dna = Seq(str(x), generic_dna)\n",
    "    translated_sequences.append(coding_dna.translate())\n",
    "\n",
    "# Prints new list of translated sequences   \n",
    "for x in translated_sequences:\n",
    "    \n",
    "    print(x)\n",
    "\n",
    "    \n",
    "\n",
    "    \n",
    "\n",
    "\n",
    "\n"
   ]
  },
  {
   "cell_type": "markdown",
   "metadata": {},
   "source": [
    "## Step 2: Align our small proteins using pairwise2\n",
    "    - Align each protein to each other protein using the blosum62 scoring matrix, a gap opening penalty of -10, and a gap extension penalty of -0.5\n",
    "    - If an alignment scores better than 40, save it.\n",
    "    - Print the highest scoring pairwise alignment\n",
    "    - Take care in how you set up your loops for the pairwise alignments. Each alignment only needs to be done once. If you've already tested the alignment of seq1 vs seq5, don't align seq5 vs seq1.\n",
    "    "
   ]
  },
  {
   "cell_type": "code",
   "execution_count": 230,
   "metadata": {},
   "outputs": [
    {
     "name": "stdout",
     "output_type": "stream",
     "text": [
      "('MNESWVFTTVQHAISNPNGKRQSLKLQPRSLLQSCMGKPL', 'MNESWVFTTVQHAISNPNGKRQSLKLQPRSLLQSCMGKPL', 211.0, 0, 40)\n"
     ]
    }
   ],
   "source": [
    "from Bio import pairwise2\n",
    "from Bio.pairwise2 import format_alignment\n",
    "from Bio import AlignIO\n",
    "from Bio import Align\n",
    "from Bio.SubsMat.MatrixInfo import blosum62\n",
    "\n",
    "#matrix = matlist.blosum62\n",
    "\n",
    "aligned_sequences = []\n",
    "scored_sequences = []\n",
    "aligner = Align.PairwiseAligner()\n",
    "\n",
    "\n",
    "# Iterate through list of proteins and only align unique combinations of seqA and seqB\n",
    "for i in range(0, len(translated_sequences)-1, 1):\n",
    "    for j in range(i+1, len(translated_sequences), 1):\n",
    "        \n",
    "        # for each alignment object, use BLOSUM62 scoring matrix to score alignment\n",
    "        for a in pairwise2.align.globalds(translated_sequences[i][0:-1],translated_sequences[j][0:-1], blosum62, -10, -0.5):\n",
    "            \n",
    "            # only keep alignments whose score is above 40\n",
    "            if a[2] > 40:\n",
    "                scored_sequences.append(a)\n",
    "            #print(format_alignment(*a))\n",
    "            \n",
    "        \n",
    "for x in scored_sequences:\n",
    "    print(x)\n",
    " \n",
    "        \n",
    "\n",
    "\n",
    "\n"
   ]
  },
  {
   "cell_type": "markdown",
   "metadata": {},
   "source": [
    "## Step 3: Running BLAST and reading results\n",
    "     *Because we are doing a web BLAST, choose ONLY one sequence from our list of short proteins*.\n",
    "    - Run BLAST with your sequence against the NR database\n",
    "    - Parse the results. Report any HSPs with an E-value less than 0.05 and show the HSP alignments, including the name of the matching sequence. If no HSPs meet that criteria, report the highest scoring pair.\n",
    "    - If for whatever reason the sequence you selected fails to return any results, try a new one "
   ]
  },
  {
   "cell_type": "code",
   "execution_count": 231,
   "metadata": {},
   "outputs": [
    {
     "ename": "KeyboardInterrupt",
     "evalue": "",
     "output_type": "error",
     "traceback": [
      "\u001b[1;31m---------------------------------------------------------------------------\u001b[0m",
      "\u001b[1;31mKeyboardInterrupt\u001b[0m                         Traceback (most recent call last)",
      "\u001b[1;32m<ipython-input-231-96539d6aceab>\u001b[0m in \u001b[0;36m<module>\u001b[1;34m\u001b[0m\n\u001b[0;32m      9\u001b[0m \u001b[1;31m#print(blast_sequence[0])\u001b[0m\u001b[1;33m\u001b[0m\u001b[1;33m\u001b[0m\u001b[1;33m\u001b[0m\u001b[0m\n\u001b[0;32m     10\u001b[0m \u001b[1;33m\u001b[0m\u001b[0m\n\u001b[1;32m---> 11\u001b[1;33m \u001b[0mresult_handle\u001b[0m \u001b[1;33m=\u001b[0m \u001b[0mNCBIWWW\u001b[0m\u001b[1;33m.\u001b[0m\u001b[0mqblast\u001b[0m\u001b[1;33m(\u001b[0m\u001b[1;34m'blastp'\u001b[0m\u001b[1;33m,\u001b[0m \u001b[1;34m'nr'\u001b[0m\u001b[1;33m,\u001b[0m \u001b[1;34m'MNESWVFTTVQHAISNPNGKRQSLKLQPRSLLQSCMGKPL'\u001b[0m\u001b[1;33m)\u001b[0m\u001b[1;33m\u001b[0m\u001b[1;33m\u001b[0m\u001b[0m\n\u001b[0m\u001b[0;32m     12\u001b[0m \u001b[1;31m#blast_results = SearchIO.read(blast_sequence, 'blast-tab')\u001b[0m\u001b[1;33m\u001b[0m\u001b[1;33m\u001b[0m\u001b[1;33m\u001b[0m\u001b[0m\n\u001b[0;32m     13\u001b[0m \u001b[1;32mwith\u001b[0m \u001b[0mopen\u001b[0m\u001b[1;33m(\u001b[0m\u001b[1;34m\"/mnt/c/Users/adamh/OneDrive/Desktop/blast_results.xml\"\u001b[0m\u001b[1;33m,\u001b[0m \u001b[1;34m'w'\u001b[0m\u001b[1;33m)\u001b[0m \u001b[1;32mas\u001b[0m \u001b[0mout_handle\u001b[0m\u001b[1;33m:\u001b[0m\u001b[1;33m\u001b[0m\u001b[1;33m\u001b[0m\u001b[0m\n",
      "\u001b[1;32m~\\Anaconda3\\lib\\site-packages\\Bio\\Blast\\NCBIWWW.py\u001b[0m in \u001b[0;36mqblast\u001b[1;34m(program, database, sequence, url_base, auto_format, composition_based_statistics, db_genetic_code, endpoints, entrez_query, expect, filter, gapcosts, genetic_code, hitlist_size, i_thresh, layout, lcase_mask, matrix_name, nucl_penalty, nucl_reward, other_advanced, perc_ident, phi_pattern, query_file, query_believe_defline, query_from, query_to, searchsp_eff, service, threshold, ungapped_alignment, word_size, short_query, alignments, alignment_view, descriptions, entrez_links_new_window, expect_low, expect_high, format_entrez_query, format_object, format_type, ncbi_gi, results_file, show_overview, megablast, template_type, template_length)\u001b[0m\n\u001b[0;32m    211\u001b[0m         \u001b[0mwait\u001b[0m \u001b[1;33m=\u001b[0m \u001b[0mqblast\u001b[0m\u001b[1;33m.\u001b[0m\u001b[0m_previous\u001b[0m \u001b[1;33m+\u001b[0m \u001b[0mdelay\u001b[0m \u001b[1;33m-\u001b[0m \u001b[0mcurrent\u001b[0m\u001b[1;33m\u001b[0m\u001b[1;33m\u001b[0m\u001b[0m\n\u001b[0;32m    212\u001b[0m         \u001b[1;32mif\u001b[0m \u001b[0mwait\u001b[0m \u001b[1;33m>\u001b[0m \u001b[1;36m0\u001b[0m\u001b[1;33m:\u001b[0m\u001b[1;33m\u001b[0m\u001b[1;33m\u001b[0m\u001b[0m\n\u001b[1;32m--> 213\u001b[1;33m             \u001b[0mtime\u001b[0m\u001b[1;33m.\u001b[0m\u001b[0msleep\u001b[0m\u001b[1;33m(\u001b[0m\u001b[0mwait\u001b[0m\u001b[1;33m)\u001b[0m\u001b[1;33m\u001b[0m\u001b[1;33m\u001b[0m\u001b[0m\n\u001b[0m\u001b[0;32m    214\u001b[0m             \u001b[0mqblast\u001b[0m\u001b[1;33m.\u001b[0m\u001b[0m_previous\u001b[0m \u001b[1;33m=\u001b[0m \u001b[0mcurrent\u001b[0m \u001b[1;33m+\u001b[0m \u001b[0mwait\u001b[0m\u001b[1;33m\u001b[0m\u001b[1;33m\u001b[0m\u001b[0m\n\u001b[0;32m    215\u001b[0m         \u001b[1;32melse\u001b[0m\u001b[1;33m:\u001b[0m\u001b[1;33m\u001b[0m\u001b[1;33m\u001b[0m\u001b[0m\n",
      "\u001b[1;31mKeyboardInterrupt\u001b[0m: "
     ]
    }
   ],
   "source": [
    "from Bio import SearchIO\n",
    "from Bio.Blast import NCBIWWW\n",
    "from Bio.Blast import NCBIXML\n",
    "\n",
    "\n",
    "#Blast protein sequence and create a BLAST results object (result_handle) \n",
    "result_handle = NCBIWWW.qblast('blastp', 'nr', 'MNESWVFTTVQHAISNPNGKRQSLKLQPRSLLQSCMGKPL')\n",
    "\n",
    "#Open new file to write blast resutlts object \n",
    "with open(\"/mnt/c/Users/adamh/OneDrive/Desktop/blast_results.xml\", 'w') as out_handle:\n",
    "    out_handle.write(result_handle.read())\n",
    "\n",
    "result_handle.close()\n",
    "\n",
    "#blast_out = open('/mnt/c/Users/adamh/OneDrive/Desktop/blast_results.xml', 'r')\n",
    "\n",
    "\n",
    "\n"
   ]
  },
  {
   "cell_type": "code",
   "execution_count": null,
   "metadata": {},
   "outputs": [],
   "source": [
    "from Bio.Blast import NCBIXML\n",
    "\n",
    "# parse Blast results object \n",
    "blast_record = NCBIXML.parse(result_handle)\n",
    "\n",
    "E_VALUE_THRESH = 0.05\n",
    "\n",
    "#iterate through object and store sequences and scores below threshold\n",
    "for alignment in blast_record.alignments:\n",
    "    for hsp in alignment.hsps:\n",
    "        if hsp.expect < E_VALUE_THRESH:\n",
    "            print(\"Sequence: \" + alignment.title)\n",
    "            print(\"E-value: \" + hsp.expect)\n",
    "            #print(\"Highest scoring: \" + max())\n",
    "           "
   ]
  }
 ],
 "metadata": {
  "kernelspec": {
   "display_name": "Python 3",
   "language": "python",
   "name": "python3"
  },
  "language_info": {
   "codemirror_mode": {
    "name": "ipython",
    "version": 3
   },
   "file_extension": ".py",
   "mimetype": "text/x-python",
   "name": "python",
   "nbconvert_exporter": "python",
   "pygments_lexer": "ipython3",
   "version": "3.7.4"
  }
 },
 "nbformat": 4,
 "nbformat_minor": 2
}
